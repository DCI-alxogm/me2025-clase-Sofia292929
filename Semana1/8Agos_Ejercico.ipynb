{
  "nbformat": 4,
  "nbformat_minor": 0,
  "metadata": {
    "colab": {
      "provenance": []
    },
    "kernelspec": {
      "name": "python3",
      "display_name": "Python 3"
    },
    "language_info": {
      "name": "python"
    }
  },
  "cells": [
    {
      "cell_type": "code",
      "execution_count": 20,
      "metadata": {
        "colab": {
          "base_uri": "https://localhost:8080/"
        },
        "collapsed": true,
        "id": "qwOboZufpRBn",
        "outputId": "2c731111-aedf-4b7d-bac1-5ecf5467eef7"
      },
      "outputs": [
        {
          "output_type": "stream",
          "name": "stdout",
          "text": [
            "\u001b[01m\u001b[Kejercico1.c:\u001b[m\u001b[K In function ‘\u001b[01m\u001b[Kmain\u001b[m\u001b[K’:\n",
            "\u001b[01m\u001b[Kejercico1.c:8:15:\u001b[m\u001b[K \u001b[01;31m\u001b[Kerror: \u001b[m\u001b[Kexpected ‘\u001b[01m\u001b[K;\u001b[m\u001b[K’ before ‘\u001b[01m\u001b[K:\u001b[m\u001b[K’ token\n",
            "    8 |   numeros[1]=4\u001b[01;31m\u001b[K:\u001b[m\u001b[K\n",
            "      |               \u001b[01;31m\u001b[K^\u001b[m\u001b[K\n",
            "      |               \u001b[32m\u001b[K;\u001b[m\u001b[K\n",
            "\u001b[01m\u001b[Kejercico1.c:13:15:\u001b[m\u001b[K \u001b[01;35m\u001b[Kwarning: \u001b[m\u001b[Kformat ‘\u001b[01m\u001b[K%f\u001b[m\u001b[K’ expects a matching ‘\u001b[01m\u001b[Kdouble\u001b[m\u001b[K’ argument [\u001b[01;35m\u001b[K\u001b]8;;https://gcc.gnu.org/onlinedocs/gcc/Warning-Options.html#index-Wformat=\u0007-Wformat=\u001b]8;;\u0007\u001b[m\u001b[K]\n",
            "   13 |   printf(\"%f \u001b[01;35m\u001b[K%f\u001b[m\u001b[K %f %f\\n\", numeros[5]);\n",
            "      |              \u001b[01;35m\u001b[K~^\u001b[m\u001b[K\n",
            "      |               \u001b[01;35m\u001b[K|\u001b[m\u001b[K\n",
            "      |               \u001b[01;35m\u001b[Kdouble\u001b[m\u001b[K\n",
            "\u001b[01m\u001b[Kejercico1.c:13:18:\u001b[m\u001b[K \u001b[01;35m\u001b[Kwarning: \u001b[m\u001b[Kformat ‘\u001b[01m\u001b[K%f\u001b[m\u001b[K’ expects a matching ‘\u001b[01m\u001b[Kdouble\u001b[m\u001b[K’ argument [\u001b[01;35m\u001b[K\u001b]8;;https://gcc.gnu.org/onlinedocs/gcc/Warning-Options.html#index-Wformat=\u0007-Wformat=\u001b]8;;\u0007\u001b[m\u001b[K]\n",
            "   13 |   printf(\"%f %f \u001b[01;35m\u001b[K%f\u001b[m\u001b[K %f\\n\", numeros[5]);\n",
            "      |                 \u001b[01;35m\u001b[K~^\u001b[m\u001b[K\n",
            "      |                  \u001b[01;35m\u001b[K|\u001b[m\u001b[K\n",
            "      |                  \u001b[01;35m\u001b[Kdouble\u001b[m\u001b[K\n",
            "\u001b[01m\u001b[Kejercico1.c:13:21:\u001b[m\u001b[K \u001b[01;35m\u001b[Kwarning: \u001b[m\u001b[Kformat ‘\u001b[01m\u001b[K%f\u001b[m\u001b[K’ expects a matching ‘\u001b[01m\u001b[Kdouble\u001b[m\u001b[K’ argument [\u001b[01;35m\u001b[K\u001b]8;;https://gcc.gnu.org/onlinedocs/gcc/Warning-Options.html#index-Wformat=\u0007-Wformat=\u001b]8;;\u0007\u001b[m\u001b[K]\n",
            "   13 |   printf(\"%f %f %f \u001b[01;35m\u001b[K%f\u001b[m\u001b[K\\n\", numeros[5]);\n",
            "      |                    \u001b[01;35m\u001b[K~^\u001b[m\u001b[K\n",
            "      |                     \u001b[01;35m\u001b[K|\u001b[m\u001b[K\n",
            "      |                     \u001b[01;35m\u001b[Kdouble\u001b[m\u001b[K\n"
          ]
        }
      ],
      "source": [
        "!gcc ejercico1.c -o ejercico1.out"
      ]
    },
    {
      "cell_type": "code",
      "source": [
        "!./ejercico1.out"
      ],
      "metadata": {
        "colab": {
          "base_uri": "https://localhost:8080/"
        },
        "id": "z8owJ08UuEvu",
        "outputId": "09e9f95d-ea6d-45ec-8dfa-9fd5bf5f3599"
      },
      "execution_count": 12,
      "outputs": [
        {
          "output_type": "stream",
          "name": "stdout",
          "text": [
            "/bin/bash: line 1: ./ejercico1.out: No such file or directory\n"
          ]
        }
      ]
    }
  ]
}