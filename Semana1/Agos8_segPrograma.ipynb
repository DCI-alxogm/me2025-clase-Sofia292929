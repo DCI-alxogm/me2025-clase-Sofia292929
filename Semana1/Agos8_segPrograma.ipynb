{
  "nbformat": 4,
  "nbformat_minor": 0,
  "metadata": {
    "colab": {
      "provenance": []
    },
    "kernelspec": {
      "name": "python3",
      "display_name": "Python 3"
    },
    "language_info": {
      "name": "python"
    }
  },
  "cells": [
    {
      "cell_type": "code",
      "execution_count": 1,
      "metadata": {
        "id": "0R9ioVDZkeLi"
      },
      "outputs": [],
      "source": [
        "!gcc segundo_programa.c -o segundo_programa.out"
      ]
    },
    {
      "cell_type": "code",
      "source": [
        "!./segundo_programa.out"
      ],
      "metadata": {
        "colab": {
          "base_uri": "https://localhost:8080/"
        },
        "id": "-WtfJyfqlkeR",
        "outputId": "1278fbaf-51a9-4fe2-f0ab-299954ec94e1"
      },
      "execution_count": 2,
      "outputs": [
        {
          "output_type": "stream",
          "name": "stdout",
          "text": [
            "10"
          ]
        }
      ]
    }
  ]
}