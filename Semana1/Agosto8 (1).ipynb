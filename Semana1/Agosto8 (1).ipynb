{
  "nbformat": 4,
  "nbformat_minor": 0,
  "metadata": {
    "colab": {
      "provenance": []
    },
    "kernelspec": {
      "name": "python3",
      "display_name": "Python 3"
    },
    "language_info": {
      "name": "python"
    }
  },
  "cells": [
    {
      "cell_type": "code",
      "execution_count": 12,
      "metadata": {
        "colab": {
          "base_uri": "https://localhost:8080/"
        },
        "id": "4MdoNBqKfK0S",
        "outputId": "d3575940-25ec-4b77-e145-6b9b19ac6515"
      },
      "outputs": [
        {
          "output_type": "stream",
          "name": "stdout",
          "text": [
            "\u001b[01m\u001b[KHola_mundo.c:\u001b[m\u001b[K In function ‘\u001b[01m\u001b[Kmain\u001b[m\u001b[K’:\n",
            "\u001b[01m\u001b[KHola_mundo.c:6:10:\u001b[m\u001b[K \u001b[01;35m\u001b[Kwarning: \u001b[m\u001b[Kmissing terminating \" character\n",
            "    6 |   printf(\u001b[01;35m\u001b[K\"\u001b[m\u001b[KHola mundo);\n",
            "      |          \u001b[01;35m\u001b[K^\u001b[m\u001b[K\n",
            "\u001b[01m\u001b[KHola_mundo.c:6:10:\u001b[m\u001b[K \u001b[01;31m\u001b[Kerror: \u001b[m\u001b[Kmissing terminating \" character\n",
            "    6 |   printf(\u001b[01;31m\u001b[K\"Hola mundo);\u001b[m\u001b[K\n",
            "      |          \u001b[01;31m\u001b[K^~~~~~~~~~~~~\u001b[m\u001b[K\n",
            "\u001b[01m\u001b[KHola_mundo.c:7:1:\u001b[m\u001b[K \u001b[01;31m\u001b[Kerror: \u001b[m\u001b[Kexpected expression before ‘\u001b[01m\u001b[K}\u001b[m\u001b[K’ token\n",
            "    7 | \u001b[01;31m\u001b[K}\u001b[m\u001b[K\n",
            "      | \u001b[01;31m\u001b[K^\u001b[m\u001b[K\n",
            "\u001b[01m\u001b[KHola_mundo.c:6:10:\u001b[m\u001b[K \u001b[01;31m\u001b[Kerror: \u001b[m\u001b[Kexpected ‘\u001b[01m\u001b[K;\u001b[m\u001b[K’ before ‘\u001b[01m\u001b[K}\u001b[m\u001b[K’ token\n",
            "    6 |   printf(\u001b[01;31m\u001b[K\"\u001b[m\u001b[KHola mundo);\n",
            "      |          \u001b[01;31m\u001b[K^\u001b[m\u001b[K\n",
            "      |          \u001b[32m\u001b[K;\u001b[m\u001b[K\n",
            "    7 | \u001b[32m\u001b[K}\u001b[m\u001b[K\n",
            "      | \u001b[32m\u001b[K~\u001b[m\u001b[K         \n"
          ]
        }
      ],
      "source": [
        "! gcc Hola_mundo.c -o Hola_mundo"
      ]
    },
    {
      "cell_type": "code",
      "source": [
        "!./Hola_mundo.out"
      ],
      "metadata": {
        "colab": {
          "base_uri": "https://localhost:8080/"
        },
        "id": "IJtFWcK8fYor",
        "outputId": "2ad8f317-d4dd-47e5-c307-c07438207d68"
      },
      "execution_count": 11,
      "outputs": [
        {
          "output_type": "stream",
          "name": "stdout",
          "text": [
            "/bin/bash: line 1: ./Hola_mundo.out: Permission denied\n"
          ]
        }
      ]
    }
  ]
}