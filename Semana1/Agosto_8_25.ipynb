{
  "nbformat": 4,
  "nbformat_minor": 0,
  "metadata": {
    "colab": {
      "provenance": []
    },
    "kernelspec": {
      "name": "python3",
      "display_name": "Python 3"
    },
    "language_info": {
      "name": "python"
    }
  },
  "cells": [
    {
      "cell_type": "code",
      "execution_count": 34,
      "metadata": {
        "id": "4MdoNBqKfK0S"
      },
      "outputs": [],
      "source": [
        "!gcc Hola_mundo.c -o Hola_mundo.out"
      ]
    },
    {
      "cell_type": "code",
      "source": [
        "!./Hola_mundo.out"
      ],
      "metadata": {
        "colab": {
          "base_uri": "https://localhost:8080/"
        },
        "id": "IJtFWcK8fYor",
        "outputId": "7c2b2ab0-49ac-44da-9f2e-d0fcf89ea768"
      },
      "execution_count": 35,
      "outputs": [
        {
          "output_type": "stream",
          "name": "stdout",
          "text": [
            "Hola mundo"
          ]
        }
      ]
    },
    {
      "cell_type": "code",
      "source": [],
      "metadata": {
        "id": "vrMy8N60iiFH"
      },
      "execution_count": null,
      "outputs": []
    }
  ]
}