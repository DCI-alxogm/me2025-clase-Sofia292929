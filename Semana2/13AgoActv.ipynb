{
  "nbformat": 4,
  "nbformat_minor": 0,
  "metadata": {
    "colab": {
      "provenance": []
    },
    "kernelspec": {
      "name": "python3",
      "display_name": "Python 3"
    },
    "language_info": {
      "name": "python"
    }
  },
  "cells": [
    {
      "cell_type": "code",
      "execution_count": 14,
      "metadata": {
        "id": "Tz8zcov_a4tb"
      },
      "outputs": [],
      "source": [
        "!gcc 13AgAct.c -o 13AgAct_output"
      ]
    },
    {
      "cell_type": "code",
      "source": [
        "!chmod +x 13AgAct_output\n",
        "!./13AgAct_output"
      ],
      "metadata": {
        "colab": {
          "base_uri": "https://localhost:8080/"
        },
        "id": "o6dk5LQQbNB5",
        "outputId": "1e0374bc-1ba7-499a-cd1f-af9d17619b2e"
      },
      "execution_count": 15,
      "outputs": [
        {
          "output_type": "stream",
          "name": "stdout",
          "text": [
            "Primera operacion: 5\n",
            "segunda operacion: 5\n",
            "Tercera operacion: 5\n",
            "Cuarta operacion: 5\n",
            "Primera operacion: 5.000000\n",
            "segunda operacion: 5.000000\n",
            "Tercera operacion: 5.857143\n",
            "Cuarta operacion: 5.857143\n"
          ]
        }
      ]
    }
  ]
}