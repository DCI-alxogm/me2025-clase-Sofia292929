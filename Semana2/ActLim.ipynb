{
  "nbformat": 4,
  "nbformat_minor": 0,
  "metadata": {
    "colab": {
      "provenance": []
    },
    "kernelspec": {
      "name": "python3",
      "display_name": "Python 3"
    },
    "language_info": {
      "name": "python"
    }
  },
  "cells": [
    {
      "cell_type": "code",
      "execution_count": 1,
      "metadata": {
        "id": "VjUZQ2hIgUIR"
      },
      "outputs": [],
      "source": [
        "!gcc Act13Ag.c -o Act13Ag.out"
      ]
    },
    {
      "cell_type": "code",
      "source": [
        "!./Act13Ag.out"
      ],
      "metadata": {
        "colab": {
          "base_uri": "https://localhost:8080/"
        },
        "id": "zArrKFt4gjQ8",
        "outputId": "c9acc5bc-232d-40ff-b842-7dda98a22199"
      },
      "execution_count": 2,
      "outputs": [
        {
          "output_type": "stream",
          "name": "stdout",
          "text": [
            "UINT_MAX = 4294967295 \n",
            "ShortINT_MAX = 32767 \n",
            "ShortINT_MIN = -32768 \n",
            "INT_MAX = 2147483647 \n",
            "INT_MIN = -2147483648 \n",
            "FLT_MIN      = 1.175494e-38\n",
            "FLT_MAX      = 3.402823e+38\n",
            "DBL_MIN      = 2.225074e-308\n",
            "DBL_MAX      = 1.797693e+308\n",
            "LDBL_MIN      = 3.362103e-4932\n",
            "LDBL_MAX      = 1.189731e+4932\n",
            "FLT_EPSILON  = 1.192093e-07\n",
            "DBL_EPSILON  = 2.220446e-16\n",
            "LBL_EPSILON  = 1.084202e-19\n",
            "FLT_DIG      = 6\n",
            "DBL_DIG      = 15\n",
            "LBDL_DIG      = 18\n",
            "FLT_MANT_DIG = 24\n",
            "DBL_MANT_DIG = 53\n",
            "LDBL_MANT_DIG = 64\n"
          ]
        }
      ]
    }
  ]
}