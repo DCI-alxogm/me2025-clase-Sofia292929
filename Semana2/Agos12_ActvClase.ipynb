{
  "nbformat": 4,
  "nbformat_minor": 0,
  "metadata": {
    "colab": {
      "provenance": []
    },
    "kernelspec": {
      "name": "python3",
      "display_name": "Python 3"
    },
    "language_info": {
      "name": "python"
    }
  },
  "cells": [
    {
      "cell_type": "code",
      "source": [
        "!gcc Ago12,ej1.c -o Agos12,ej.out -lm"
      ],
      "metadata": {
        "id": "Wc4vI8clM1Lb"
      },
      "execution_count": 52,
      "outputs": []
    },
    {
      "cell_type": "code",
      "source": [
        "!./Agos12,ej.out"
      ],
      "metadata": {
        "colab": {
          "base_uri": "https://localhost:8080/"
        },
        "id": "61NpQvqEORc-",
        "outputId": "397fd556-1038-4bd3-d7bb-48ee2f4cc7b4"
      },
      "execution_count": 51,
      "outputs": [
        {
          "output_type": "stream",
          "name": "stdout",
          "text": [
            "x\t x^2 \t log(x+1) \t exp (x)+ cos(x)\n",
            "x=1 \n",
            " exp(x)+cos(x)= 3.258584\n",
            "2 0.477121\n",
            "x=3 \n",
            " exp(x)+cos(x)= 19.095545\n",
            "4 0.698970\n",
            "x=5 \n",
            " exp(x)+cos(x)= 148.696823\n",
            "Resultados\n",
            "\n",
            "3.258584\n",
            "0.477121\n",
            "19.095545\n",
            "0.698970\n",
            "148.696823\n",
            "Pi=Pi6.283185"
          ]
        }
      ]
    }
  ]
}