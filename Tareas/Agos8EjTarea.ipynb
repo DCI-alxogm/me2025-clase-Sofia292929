{
  "nbformat": 4,
  "nbformat_minor": 0,
  "metadata": {
    "colab": {
      "provenance": []
    },
    "kernelspec": {
      "name": "python3",
      "display_name": "Python 3"
    },
    "language_info": {
      "name": "python"
    }
  },
  "cells": [
    {
      "cell_type": "code",
      "execution_count": 10,
      "metadata": {
        "id": "yPDp_qRdGRGX"
      },
      "outputs": [],
      "source": [
        "!gcc Ejercicio.c -o Ejercicio.out -lm"
      ]
    },
    {
      "cell_type": "code",
      "source": [
        "!./Ejercicio.out"
      ],
      "metadata": {
        "colab": {
          "base_uri": "https://localhost:8080/"
        },
        "id": "paUGjNSIHAMd",
        "outputId": "2d6cbc33-3606-4dec-fabb-5b9a1984b847"
      },
      "execution_count": 6,
      "outputs": [
        {
          "output_type": "stream",
          "name": "stdout",
          "text": [
            "/bin/bash: line 1: ./Ejercicio.out: No such file or directory\n"
          ]
        }
      ]
    },
    {
      "cell_type": "code",
      "metadata": {
        "colab": {
          "base_uri": "https://localhost:8080/"
        },
        "id": "a6be1d09",
        "outputId": "a4d93ae8-9c4e-4dcf-f96d-9635e0d5d584"
      },
      "source": [
        "!./Ejercicio.out"
      ],
      "execution_count": 8,
      "outputs": [
        {
          "output_type": "stream",
          "name": "stdout",
          "text": [
            "Números: 3.0004.0006.0008.0009.000\n",
            "\n",
            "Resultados de las funciones\n",
            "x        x^2       log(x+1)    exp(x)+cos(x)\n",
            "3.000   9.000     1.386      19.096\n",
            "4.000   16.000     1.609      53.945\n",
            "6.000   36.000     1.946      404.389\n",
            "8.000   64.000     2.197      2980.812\n",
            "9.000   81.000     2.303      8102.173\n"
          ]
        }
      ]
    }
  ]
}