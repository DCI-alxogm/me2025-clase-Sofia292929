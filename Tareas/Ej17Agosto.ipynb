{
  "nbformat": 4,
  "nbformat_minor": 0,
  "metadata": {
    "colab": {
      "provenance": []
    },
    "kernelspec": {
      "name": "python3",
      "display_name": "Python 3"
    },
    "language_info": {
      "name": "python"
    }
  },
  "cells": [
    {
      "cell_type": "code",
      "execution_count": null,
      "metadata": {
        "id": "94ppyspwYMfN"
      },
      "outputs": [],
      "source": [
        "!gcc Ejercicio17Ago.c -o Ejercicio17Ago.out -lm"
      ]
    },
    {
      "cell_type": "code",
      "source": [
        "!./Ejercicio17Ago.out"
      ],
      "metadata": {
        "colab": {
          "base_uri": "https://localhost:8080/"
        },
        "id": "thAtRPfxZBa2",
        "outputId": "9570160d-fab1-4630-e762-a9ade4e49136"
      },
      "execution_count": null,
      "outputs": [
        {
          "output_type": "stream",
          "name": "stdout",
          "text": [
            "Ingrese los valores correspondientes para a, b y c del polinomio:"
          ]
        }
      ]
    }
  ]
}