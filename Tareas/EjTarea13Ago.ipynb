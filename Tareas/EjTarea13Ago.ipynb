{
  "nbformat": 4,
  "nbformat_minor": 0,
  "metadata": {
    "colab": {
      "provenance": []
    },
    "kernelspec": {
      "name": "python3",
      "display_name": "Python 3"
    },
    "language_info": {
      "name": "python"
    }
  },
  "cells": [
    {
      "cell_type": "code",
      "execution_count": 1,
      "metadata": {
        "id": "p75EdmT2a4xq"
      },
      "outputs": [],
      "source": [
        "!gcc Ej13Ago.c -o Ej13Ago.out -lm"
      ]
    },
    {
      "cell_type": "code",
      "source": [
        "!./Ej13Ago.out"
      ],
      "metadata": {
        "colab": {
          "base_uri": "https://localhost:8080/"
        },
        "id": "artQ5iM6bjBf",
        "outputId": "2d78a9af-7d7e-46cc-e327-cfbbbc63b587"
      },
      "execution_count": 2,
      "outputs": [
        {
          "output_type": "stream",
          "name": "stdout",
          "text": [
            "Ingrese un numero: 4\n",
            "El numero 4 es PAR.\n",
            "¿Desea analizar otro numero? (s/n): s\n",
            "Ingrese un numero: 3\n",
            "El numero 3 es IMPAR.\n",
            "¿Desea analizar otro numero? (s/n): n\n",
            "Programa finalizado.\n"
          ]
        }
      ]
    }
  ]
}